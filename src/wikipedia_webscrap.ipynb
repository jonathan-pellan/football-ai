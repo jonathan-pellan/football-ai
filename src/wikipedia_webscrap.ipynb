{
 "cells": [
  {
   "cell_type": "code",
   "execution_count": 24,
   "metadata": {},
   "outputs": [],
   "source": [
    "import requests\n",
    "from bs4 import BeautifulSoup\n",
    "import datetime\n",
    "import re\n",
    "import pandas as pd\n",
    "from io import StringIO\n",
    "import json\n",
    "import time"
   ]
  },
  {
   "cell_type": "code",
   "execution_count": 2,
   "metadata": {},
   "outputs": [],
   "source": [
    "adresse_list = ['https://fr.wikipedia.org/wiki/Championnat_de_France_de_football_de_deuxi%C3%A8me_division_2022-2023',\n",
    "                'https://fr.wikipedia.org/wiki/Championnat_de_France_de_football_de_deuxi%C3%A8me_division_2023-2024',\n",
    "                'https://fr.wikipedia.org/wiki/Championnat_de_France_de_football_de_deuxi%C3%A8me_division_2024-2025']"
   ]
  },
  {
   "cell_type": "code",
   "execution_count": 3,
   "metadata": {},
   "outputs": [],
   "source": [
    "season_dict = {}\n",
    "\n",
    "session = requests.session()\n",
    "for adresse in adresse_list:\n",
    "    rankings_dict = {}\n",
    "    response = session.get(adresse)\n",
    "    soup = BeautifulSoup(response.text, \"html.parser\")\n",
    "    ranking_tables = soup.find_all('table', class_='gauche')\n",
    "    i = 0\n",
    "    for table in ranking_tables:\n",
    "        rankings = table.find_all('tr', class_='notheme')\n",
    "        rankings_list = []\n",
    "        for line in rankings:\n",
    "            ranking_entry = []\n",
    "            for td in line.find_all('td'):\n",
    "                if td.find('a'):\n",
    "                    ranking_entry.append(td.find('a').get('href'))\n",
    "                    ranking_entry.append(td.find('a').get('title'))\n",
    "                    ranking_entry.append(td.find('a').get_text().strip('\\n'))\n",
    "                elif td.find('span'):\n",
    "                    ranking_entry.append(td.find('b').get_text().strip('\\n'))\n",
    "                else:\n",
    "                    ranking_entry.append(td.get_text().strip('\\n'))\n",
    "            rankings_list.append(ranking_entry)\n",
    "        if i == 0:\n",
    "            rankings_dict['TOTAL'] = rankings_list\n",
    "        elif i == 1:\n",
    "            rankings_dict['HOME'] = rankings_list\n",
    "        else:\n",
    "            rankings_dict['AWAY'] = rankings_list\n",
    "        i += 1\n",
    "    season_dict[int(adresse[-4:])-1] = rankings_dict\n",
    "session.close()"
   ]
  },
  {
   "cell_type": "code",
   "execution_count": 4,
   "metadata": {},
   "outputs": [
    {
     "name": "stdout",
     "output_type": "stream",
     "text": [
      "{2022: {'TOTAL': [['1', '/wiki/Le_Havre_Athletic_Club_(football)', 'Le Havre Athletic Club (football)', 'Le Havre AC', '75', '38', '20', '15', '3', '46', '19', '+27'], ['2', '/wiki/Football_Club_de_Metz', 'Football Club de Metz', 'FC Metz', '72', '38', '20', '12', '6', '61', '33', '+28'], ['3', '/wiki/Football_Club_des_Girondins_de_Bordeaux', 'Football Club des Girondins de Bordeaux', 'Girondins de Bordeaux', '69', '38', '20', '9', '9', '51', '30', '+21'], ['4', '/wiki/Sporting_Club_bastiais', 'Sporting Club bastiais', 'SC Bastia', '60', '38', '17', '9', '12', '52', '45', '+7'], ['5', '/wiki/Stade_Malherbe_Caen', 'Stade Malherbe Caen', 'SM Caen', '59', '38', '16', '11', '11', '52', '43', '+9'], ['6', '/wiki/En_avant_de_Guingamp', 'En avant de Guingamp', 'EA Guingamp', '55', '38', '15', '10', '13', '51', '46', '+5'], ['7', '/wiki/Paris_Football_Club', 'Paris Football Club', 'Paris FC', '55', '38', '15', '10', '13', '45', '43', '+2'], ['8', '/wiki/Association_sportive_de_Saint-%C3%89tienne', 'Association sportive de Saint-Étienne', 'AS Saint-Étienne', '53-3', '38', '15', '11', '12', '63', '57', '+6'], ['9', '/wiki/Football_Club_Sochaux-Montb%C3%A9liard', 'Football Club Sochaux-Montbéliard', 'FC Sochaux-Montbéliard', '52', '38', '15', '7', '16', '54', '41', '+13'], ['10', '/wiki/Grenoble_Foot_38', 'Grenoble Foot 38', 'Grenoble Foot 38', '51', '38', '14', '9', '15', '33', '36', '-3'], ['11', '/wiki/Union_sportive_Quevilly_Rouen_M%C3%A9tropole', 'Union sportive Quevilly Rouen Métropole', 'US Quevilly-Rouen', '50', '38', '12', '14', '12', '47', '49', '-2'], ['12', '/wiki/Amiens_Sporting_Club', 'Amiens Sporting Club', 'Amiens SC', '47', '38', '13', '8', '17', '40', '52', '-12'], ['13', '/wiki/Pau_Football_Club', 'Pau Football Club', 'Pau FC', '47', '38', '12', '11', '15', '40', '52', '-12'], ['14', '/wiki/Rodez_Aveyron_Football', 'Rodez Aveyron Football', 'Rodez AF', '46', '38', '11', '13', '14', '41', '44', '-3'], ['15', '/wiki/Stade_lavallois_Mayenne_Football_Club', 'Stade lavallois Mayenne Football Club', 'Stade lavallois', '46', '38', '14', '4', '20', '44', '56', '-12'], ['16', '/wiki/Valenciennes_Football_Club', 'Valenciennes Football Club', 'Valenciennes FC', '45', '38', '10', '15', '13', '42', '49', '-7'], ['17', '/wiki/Football_Club_d%27Annecy', \"Football Club d'Annecy\", 'FC Annecy', '45', '38', '11', '12', '15', '39', '51', '-12'], ['18', '/wiki/Dijon_Football_C%C3%B4te-d%27Or', \"Dijon Football Côte-d'Or\", 'Dijon FCO', '42', '38', '10', '12', '16', '38', '43', '-5'], ['19', '/wiki/N%C3%AEmes_Olympique', 'Nîmes Olympique', 'Nîmes Olympique', '36', '38', '10', '6', '22', '44', '62', '-18'], ['20', '/wiki/Chamois_niortais_Football_Club', 'Chamois niortais Football Club', 'Chamois niortais FC', '29', '38', '7', '8', '23', '35', '67', '-32']], 'HOME': [['1', '/wiki/Football_Club_des_Girondins_de_Bordeaux', 'Football Club des Girondins de Bordeaux', 'Girondins de Bordeaux', '40', '19', '12', '4', '3', '28', '12', '+16'], ['2', '/wiki/Le_Havre_Athletic_Club_(football)', 'Le Havre Athletic Club (football)', 'Le Havre AC', '40', '19', '11', '7', '1', '23', '9', '+14'], ['3', '/wiki/Stade_Malherbe_Caen', 'Stade Malherbe Caen', 'SM Caen', '39', '19', '11', '6', '2', '33', '17', '+16'], ['4', '/wiki/Football_Club_de_Metz', 'Football Club de Metz', 'FC Metz', '37', '19', '10', '7', '2', '28', '15', '+13'], ['5', '/wiki/Sporting_Club_bastiais', 'Sporting Club bastiais', 'SC Bastia', '37', '19', '11', '4', '4', '26', '15', '+11'], ['6', '/wiki/Association_sportive_de_Saint-%C3%89tienne', 'Association sportive de Saint-Étienne', 'AS Saint-Étienne', '34', '19', '10', '4', '5', '34', '27', '+7'], ['7', '/wiki/Grenoble_Foot_38', 'Grenoble Foot 38', 'Grenoble Foot 38', '32', '19', '9', '5', '5', '19', '16', '+3'], ['8', '/wiki/Football_Club_Sochaux-Montb%C3%A9liard', 'Football Club Sochaux-Montbéliard', 'FC Sochaux-Montbéliard', '31', '19', '9', '4', '6', '31', '18', '+13'], ['9', '/wiki/Football_Club_d%27Annecy', \"Football Club d'Annecy\", 'FC Annecy', '31', '19', '9', '4', '6', '18', '18', '0'], ['10', '/wiki/N%C3%AEmes_Olympique', 'Nîmes Olympique', 'Nîmes Olympique', '29', '19', '9', '2', '8', '27', '23', '+4'], ['11', '/wiki/Valenciennes_Football_Club', 'Valenciennes Football Club', 'Valenciennes FC', '29', '19', '6', '11', '2', '27', '23', '+4'], ['12', '/wiki/Stade_lavallois_Mayenne_Football_Club', 'Stade lavallois Mayenne Football Club', 'Stade lavallois', '29', '19', '9', '2', '8', '27', '24', '+3'], ['13', '/wiki/Dijon_Football_C%C3%B4te-d%27Or', \"Dijon Football Côte-d'Or\", 'Dijon FCO', '28', '19', '7', '7', '5', '21', '17', '+4'], ['14', '/wiki/Union_sportive_Quevilly_Rouen_M%C3%A9tropole', 'Union sportive Quevilly Rouen Métropole', 'US Quevilly-Rouen', '27', '19', '6', '9', '4', '28', '24', '+4'], ['15', '/wiki/Paris_Football_Club', 'Paris Football Club', 'Paris FC', '27', '19', '8', '3', '8', '24', '22', '+2'], ['16', '/wiki/Amiens_Sporting_Club', 'Amiens Sporting Club', 'Amiens SC', '27', '19', '8', '3', '8', '20', '22', '-2'], ['17', '/wiki/En_avant_de_Guingamp', 'En avant de Guingamp', 'EA Guingamp', '25', '19', '7', '4', '8', '26', '24', '+2'], ['18', '/wiki/Pau_Football_Club', 'Pau Football Club', 'Pau FC', '24', '19', '6', '6', '7', '20', '27', '-7'], ['19', '/wiki/Rodez_Aveyron_Football', 'Rodez Aveyron Football', 'Rodez AF', '19', '19', '4', '7', '8', '18', '27', '-9'], ['20', '/wiki/Chamois_niortais_Football_Club', 'Chamois niortais Football Club', 'Chamois niortais FC', '19', '19', '5', '4', '10', '24', '36', '-12']], 'AWAY': [['1', '/wiki/Football_Club_de_Metz', 'Football Club de Metz', 'FC Metz', '35', '19', '10', '5', '4', '33', '18', '+15'], ['2', '/wiki/Le_Havre_Athletic_Club_(football)', 'Le Havre Athletic Club (football)', 'Le Havre AC', '35', '19', '9', '8', '2', '23', '10', '+13'], ['3', '/wiki/En_avant_de_Guingamp', 'En avant de Guingamp', 'EA Guingamp', '30', '19', '8', '6', '5', '25', '22', '+3'], ['4', '/wiki/Football_Club_des_Girondins_de_Bordeaux', 'Football Club des Girondins de Bordeaux', 'Girondins de Bordeaux', '29', '19', '8', '5', '6', '23', '18', '+5'], ['5', '/wiki/Paris_Football_Club', 'Paris Football Club', 'Paris FC', '28', '19', '7', '7', '5', '21', '21', '0'], ['6', '/wiki/Rodez_Aveyron_Football', 'Rodez Aveyron Football', 'Rodez AF', '27', '19', '7', '6', '6', '23', '17', '+6'], ['7', '/wiki/Sporting_Club_bastiais', 'Sporting Club bastiais', 'SC Bastia', '23', '19', '6', '5', '8', '26', '30', '-4'], ['8', '/wiki/Pau_Football_Club', 'Pau Football Club', 'Pau FC', '23', '19', '6', '5', '8', '20', '25', '-5'], ['9', '/wiki/Union_sportive_Quevilly_Rouen_M%C3%A9tropole', 'Union sportive Quevilly Rouen Métropole', 'US Quevilly-Rouen', '23', '19', '6', '5', '8', '19', '25', '-6'], ['10', '/wiki/Football_Club_Sochaux-Montb%C3%A9liard', 'Football Club Sochaux-Montbéliard', 'FC Sochaux-Montbéliard', '21', '19', '6', '4', '9', '23', '23', '0'], ['11', '/wiki/Stade_Malherbe_Caen', 'Stade Malherbe Caen', 'SM Caen', '20', '19', '5', '5', '9', '19', '26', '-7'], ['12', '/wiki/Amiens_Sporting_Club', 'Amiens Sporting Club', 'Amiens SC', '20', '19', '5', '5', '9', '20', '30', '-10'], ['13', '/wiki/Association_sportive_de_Saint-%C3%89tienne', 'Association sportive de Saint-Étienne', 'AS Saint-Étienne', '19', '19', '5', '7', '7', '29', '30', '-1'], ['14', '/wiki/Grenoble_Foot_38', 'Grenoble Foot 38', 'Grenoble Foot 38', '19', '19', '5', '4', '10', '14', '20', '-6'], ['15', '/wiki/Stade_lavallois_Mayenne_Football_Club', 'Stade lavallois Mayenne Football Club', 'Stade lavallois', '17', '19', '5', '2', '12', '17', '32', '-15'], ['16', '/wiki/Valenciennes_Football_Club', 'Valenciennes Football Club', 'Valenciennes FC', '16', '19', '4', '4', '11', '15', '26', '-11'], ['17', '/wiki/Dijon_Football_C%C3%B4te-d%27Or', \"Dijon Football Côte-d'Or\", 'Dijon FCO', '14', '19', '3', '5', '11', '17', '26', '-9'], ['18', '/wiki/Football_Club_d%27Annecy', \"Football Club d'Annecy\", 'FC Annecy', '14', '19', '2', '8', '9', '21', '33', '-12'], ['19', '/wiki/Chamois_niortais_Football_Club', 'Chamois niortais Football Club', 'Chamois niortais FC', '10', '19', '2', '4', '13', '11', '31', '-20'], ['20', '/wiki/N%C3%AEmes_Olympique', 'Nîmes Olympique', 'Nîmes Olympique', '7', '19', '1', '4', '14', '17', '39', '-22']]}, 2023: {'TOTAL': [['1', '/wiki/Association_de_la_jeunesse_auxerroise', 'Association de la jeunesse auxerroise', 'AJ Auxerre', '74', '38', '21', '11', '6', '72', '36', '+36'], ['2', '/wiki/Angers_Sporting_Club_de_l%27Ouest', \"Angers Sporting Club de l'Ouest\", 'Angers SCO', '68', '38', '20', '8', '10', '56', '42', '+14'], ['3', '/wiki/Association_sportive_de_Saint-%C3%89tienne', 'Association sportive de Saint-Étienne', 'AS Saint-Étienne', '65', '38', '19', '8', '11', '48', '31', '+17'], ['4', '/wiki/Rodez_Aveyron_Football', 'Rodez Aveyron Football', 'Rodez AF', '60', '38', '16', '12', '10', '62', '51', '+11'], ['5', '/wiki/Paris_Football_Club', 'Paris Football Club', 'Paris FC', '59', '38', '16', '11', '11', '49', '42', '+7'], ['6', '/wiki/Stade_Malherbe_Caen', 'Stade Malherbe Caen', 'SM Caen', '58', '38', '17', '7', '14', '51', '45', '+6'], ['7', '/wiki/Stade_lavallois_Mayenne_Football_Club', 'Stade lavallois Mayenne Football Club', 'Stade lavallois', '55', '38', '15', '10', '13', '40', '45', '-5'], ['8', '/wiki/Amiens_Sporting_Club', 'Amiens Sporting Club', 'Amiens SC', '53', '38', '12', '17', '9', '36', '36', '0'], ['9', '/wiki/En_avant_de_Guingamp', 'En avant de Guingamp', 'EA Guingamp', '51', '38', '13', '12', '13', '44', '40', '+4'], ['10', '/wiki/Pau_Football_Club', 'Pau Football Club', 'Pau FC', '51', '38', '13', '12', '13', '60', '57', '+3'], ['11', '/wiki/Grenoble_Foot_38', 'Grenoble Foot 38', 'Grenoble Foot 38', '51', '38', '13', '12', '13', '43', '44', '-1'], ['12', '/wiki/Football_Club_des_Girondins_de_Bordeaux', 'Football Club des Girondins de Bordeaux', 'Girondins de Bordeaux', '50-1', '38', '14', '9', '15', '50', '52', '-2'], ['13', '/wiki/Sporting_Club_de_Bastia', 'Sporting Club de Bastia', 'SC Bastia', '50-1', '38', '14', '9', '15', '44', '48', '-4'], ['14', '/wiki/Football_Club_d%27Annecy', \"Football Club d'Annecy\", 'FC Annecy', '46', '38', '12', '10', '16', '49', '50', '-1'], ['15', '/wiki/Athletic_Club_ajaccien', 'Athletic Club ajaccien', 'AC Ajaccio', '46', '38', '12', '10', '16', '35', '46', '-11'], ['16', '/wiki/Union_sportive_du_littoral_de_Dunkerque', 'Union sportive du littoral de Dunkerque', 'USL Dunkerque', '46', '38', '12', '10', '16', '36', '52', '-16'], ['17', '/wiki/Esp%C3%A9rance_sportive_Troyes_Aube_Champagne', 'Espérance sportive Troyes Aube Champagne', 'ESTAC Troyes', '41', '38', '9', '14', '15', '42', '50', '-8'], ['18', '/wiki/Union_sportive_Quevilly_Rouen_M%C3%A9tropole', 'Union sportive Quevilly Rouen Métropole', 'US Quevilly Rouen', '38', '38', '7', '17', '14', '51', '55', '-4'], ['19', '/wiki/Union_sportive_concarnoise', 'Union sportive concarnoise', 'US Concarneau', '38', '38', '10', '8', '20', '39', '57', '-18'], ['20', '/wiki/Valenciennes_Football_Club', 'Valenciennes Football Club', 'Valenciennes FC', '29', '38', '6', '11', '21', '26', '54', '-28']], 'HOME': [['1', '/wiki/Angers_Sporting_Club_de_l%27Ouest', \"Angers Sporting Club de l'Ouest\", 'Angers SCO', '43', '19', '13', '4', '2', '31', '15', '+16'], ['2', '/wiki/Association_de_la_jeunesse_auxerroise', 'Association de la jeunesse auxerroise', 'AJ Auxerre', '41', '19', '12', '5', '2', '39', '14', '+25'], ['3', '/wiki/Rodez_Aveyron_Football', 'Rodez Aveyron Football', 'Rodez AF', '36', '19', '10', '6', '3', '35', '22', '+13'], ['4', '/wiki/Stade_Malherbe_Caen', 'Stade Malherbe Caen', 'SM Caen', '36', '19', '11', '3', '5', '25', '12', '+13'], ['5', '/wiki/Athletic_Club_ajaccien', 'Athletic Club ajaccien', 'AC Ajaccio', '36', '19', '10', '6', '3', '26', '14', '+12'], ['6', '/wiki/Football_Club_des_Girondins_de_Bordeaux', 'Football Club des Girondins de Bordeaux', 'Girondins de Bordeaux', '35', '19', '10', '5', '4', '31', '19', '+12'], ['7', '/wiki/Paris_Football_Club', 'Paris Football Club', 'Paris FC', '34', '19', '10', '4', '5', '29', '19', '+10'], ['8', '/wiki/Association_sportive_de_Saint-%C3%89tienne', 'Association sportive de Saint-Étienne', 'AS Saint-Étienne', '34', '19', '10', '4', '5', '24', '14', '+10'], ['9', '/wiki/Grenoble_Foot_38', 'Grenoble Foot 38', 'Grenoble Foot 38', '28', '19', '7', '7', '5', '23', '21', '+2'], ['10', '/wiki/Sporting_Club_de_Bastia', 'Sporting Club de Bastia', 'SC Bastia', '28', '19', '8', '5', '6', '22', '23', '-1'], ['11', '/wiki/Pau_Football_Club', 'Pau Football Club', 'Pau FC', '27', '19', '7', '7', '5', '32', '27', '+5'], ['12', '/wiki/Esp%C3%A9rance_sportive_Troyes_Aube_Champagne', 'Espérance sportive Troyes Aube Champagne', 'ESTAC Troyes', '25', '19', '7', '4', '8', '29', '26', '+3'], ['13', '/wiki/Amiens_Sporting_Club', 'Amiens Sporting Club', 'Amiens SC', '25', '19', '5', '10', '4', '17', '16', '+1'], ['14', '/wiki/Stade_lavallois_Mayenne_Football_Club', 'Stade lavallois Mayenne Football Club', 'Stade lavallois', '23', '19', '6', '5', '8', '19', '27', '-8'], ['15', '/wiki/En_avant_de_Guingamp', 'En avant de Guingamp', 'EA Guingamp', '22', '19', '5', '7', '7', '24', '21', '+3'], ['16', '/wiki/Football_Club_d%27Annecy', \"Football Club d'Annecy\", 'FC Annecy', '21', '19', '5', '6', '8', '22', '27', '-5'], ['17', '/wiki/Union_sportive_concarnoise', 'Union sportive concarnoise', 'US Concarneau', '20', '19', '5', '5', '9', '23', '31', '-8'], ['18', '/wiki/Union_sportive_Quevilly_Rouen_M%C3%A9tropole', 'Union sportive Quevilly Rouen Métropole', 'US Quevilly Rouen', '19', '19', '4', '7', '8', '24', '27', '-3'], ['19', '/wiki/Valenciennes_Football_Club', 'Valenciennes Football Club', 'Valenciennes FC', '18', '19', '4', '6', '9', '15', '24', '-9'], ['20', '/wiki/Union_sportive_du_littoral_de_Dunkerque', 'Union sportive du littoral de Dunkerque', 'USL Dunkerque', '16', '19', '4', '4', '11', '15', '30', '-15']], 'AWAY': [['1', '/wiki/Association_de_la_jeunesse_auxerroise', 'Association de la jeunesse auxerroise', 'AJ Auxerre', '33', '19', '9', '6', '4', '33', '22', '+11'], ['2', '/wiki/Stade_lavallois_Mayenne_Football_Club', 'Stade lavallois Mayenne Football Club', 'Stade lavallois', '32', '19', '9', '5', '5', '21', '18', '+3'], ['3', '/wiki/Association_sportive_de_Saint-%C3%89tienne', 'Association sportive de Saint-Étienne', 'AS Saint-Étienne', '31', '19', '9', '4', '6', '24', '17', '+7'], ['4', '/wiki/Union_sportive_du_littoral_de_Dunkerque', 'Union sportive du littoral de Dunkerque', 'USL Dunkerque', '30', '19', '8', '6', '5', '21', '22', '-1'], ['5', '/wiki/En_avant_de_Guingamp', 'En avant de Guingamp', 'EA Guingamp', '29', '19', '8', '5', '6', '20', '19', '+1'], ['6', '/wiki/Amiens_Sporting_Club', 'Amiens Sporting Club', 'Amiens SC', '28', '19', '7', '7', '5', '19', '20', '-1'], ['7', '/wiki/Football_Club_d%27Annecy', \"Football Club d'Annecy\", 'FC Annecy', '25', '19', '7', '4', '8', '27', '23', '+4'], ['8', '/wiki/Angers_Sporting_Club_de_l%27Ouest', \"Angers Sporting Club de l'Ouest\", 'Angers SCO', '25', '19', '7', '4', '8', '25', '27', '-2'], ['9', '/wiki/Paris_Football_Club', 'Paris Football Club', 'Paris FC', '25', '19', '6', '7', '6', '20', '23', '-3'], ['10', '/wiki/Pau_Football_Club', 'Pau Football Club', 'Pau FC', '24', '19', '6', '6', '7', '28', '30', '-2'], ['11', '/wiki/Rodez_Aveyron_Football', 'Rodez Aveyron Football', 'Rodez AF', '24', '19', '6', '6', '7', '27', '29', '-2'], ['12', '/wiki/Grenoble_Foot_38', 'Grenoble Foot 38', 'Grenoble Foot 38', '23', '19', '6', '5', '8', '20', '23', '-3'], ['13', '/wiki/Sporting_Club_de_Bastia', 'Sporting Club de Bastia', 'SC Bastia', '22', '19', '6', '4', '9', '22', '25', '-3'], ['14', '/wiki/Stade_Malherbe_Caen', 'Stade Malherbe Caen', 'SM Caen', '22', '19', '6', '4', '9', '26', '33', '-7'], ['15', '/wiki/Union_sportive_Quevilly_Rouen_M%C3%A9tropole', 'Union sportive Quevilly Rouen Métropole', 'US Quevilly Rouen', '19', '19', '3', '10', '6', '27', '28', '-1'], ['16', '/wiki/Union_sportive_concarnoise', 'Union sportive concarnoise', 'US Concarneau', '18', '19', '5', '3', '11', '16', '26', '-10'], ['17', '/wiki/Esp%C3%A9rance_sportive_Troyes_Aube_Champagne', 'Espérance sportive Troyes Aube Champagne', 'ESTAC Troyes', '16', '19', '2', '10', '7', '14', '24', '-10'], ['18', '/wiki/Football_Club_des_Girondins_de_Bordeaux', 'Football Club des Girondins de Bordeaux', 'Girondins de Bordeaux', '15', '19', '4', '4', '11', '19', '33', '-14'], ['19', '/wiki/Athletic_Club_ajaccien', 'Athletic Club ajaccien', 'AC Ajaccio', '10', '19', '2', '4', '13', '9', '32', '-23'], ['20', '/wiki/Valenciennes_Football_Club', 'Valenciennes Football Club', 'Valenciennes FC', '9', '19', '1', '6', '12', '11', '31', '-20']]}, 2024: {'TOTAL': [[' 1', '/wiki/Football_Club_de_Lorient', 'Football Club de Lorient', 'FC Lorient', '46', '22', '14', '4', '4', '39', '21', '+18'], [' 2', '/wiki/Paris_Football_Club', 'Paris Football Club', 'Paris FC', '43', '22', '13', '4', '5', '35', '20', '+15'], [' 3', '/wiki/Football_Club_de_Metz', 'Football Club de Metz', 'FC Metz', '41', '22', '11', '8', '3', '34', '16', '+18'], [' 4', '/wiki/Union_sportive_du_littoral_de_Dunkerque', 'Union sportive du littoral de Dunkerque', 'USL Dunkerque', '39', '22', '12', '3', '7', '32', '25', '+7'], [' 5', '/wiki/En_avant_de_Guingamp', 'En avant de Guingamp', 'EA Guingamp', '38', '22', '12', '2', '8', '38', '25', '+13'], [' 6', '/wiki/Football_Club_d%27Annecy', \"Football Club d'Annecy\", 'FC Annecy', '36', '22', '10', '6', '6', '28', '26', '+2'], [' 7', '/wiki/Stade_lavallois_Mayenne_Football_Club', 'Stade lavallois Mayenne Football Club', 'Stade lavallois', '34', '22', '9', '7', '6', '31', '21', '+10'], [' 8', '/wiki/Grenoble_Foot_38', 'Grenoble Foot 38', 'Grenoble Foot 38', '31', '22', '9', '4', '9', '25', '26', '-1'], [' 9', '/wiki/Sporting_Club_de_Bastia', 'Sporting Club de Bastia', 'SC Bastia', '30', '22', '6', '12', '4', '26', '20', '+6'], ['10', '/wiki/Pau_Football_Club', 'Pau Football Club', 'Pau FC', '29', '22', '7', '8', '7', '25', '26', '-1'], ['11', '/wiki/Amiens_Sporting_Club', 'Amiens Sporting Club', 'Amiens SC', '29', '22', '8', '2', '11', '23', '31', '-8'], ['12', '/wiki/Esp%C3%A9rance_sportive_Troyes_Aube_Champagne', 'Espérance sportive Troyes Aube Champagne', 'ESTAC Troyes', '27', '22', '8', '3', '11', '24', '24', '0'], ['13', '/wiki/Clermont_Foot_63', 'Clermont Foot 63', 'Clermont Foot 63', '24', '22', '6', '6', '10', '20', '27', '-7'], ['14', '/wiki/Athletic_Club_ajaccien', 'Athletic Club ajaccien', 'AC Ajaccio', '24', '22', '7', '3', '12', '16', '28', '-12'], ['15', '/wiki/Rodez_Aveyron_Football', 'Rodez Aveyron Football', 'Rodez AF', '23', '22', '6', '5', '11', '33', '38', '-5'], ['16', '/wiki/Red_Star_Football_Club', 'Red Star Football Club', 'Red Star FC', '23', '22', '6', '5', '11', '22', '38', '-16'], ['17', '/wiki/Football_Club_de_Martigues', 'Football Club de Martigues', 'FC Martigues', '18', '22', '5', '3', '14', '15', '39', '-24'], ['18', '/wiki/Stade_Malherbe_Caen', 'Stade Malherbe Caen', 'SM Caen', '15', '22', '4', '3', '15', '19', '34', '-15']], 'HOME': [['1', '/wiki/Football_Club_de_Lorient', 'Football Club de Lorient', 'FC Lorient', '24', '8', '8', '0', '0', '22', '6', '+16'], ['2', '/wiki/Union_sportive_du_littoral_de_Dunkerque', 'Union sportive du littoral de Dunkerque', 'USL Dunkerque', '24', '9', '8', '0', '1', '17', '8', '+9'], ['3', '/wiki/Football_Club_d%27Annecy', \"Football Club d'Annecy\", 'FC Annecy', '19', '8', '6', '1', '1', '13', '4', '+9'], ['4', '/wiki/Football_Club_de_Metz', 'Football Club de Metz', 'FC Metz', '18', '8', '5', '3', '0', '16', '5', '+11'], ['5', '/wiki/Pau_Football_Club', 'Pau Football Club', 'Pau FC', '17', '8', '5', '2', '1', '11', '4', '+7'], ['6', '/wiki/Amiens_Sporting_Club', 'Amiens Sporting Club', 'Amiens SC', '17', '8', '5', '2', '1', '12', '6', '+6'], ['7', '/wiki/En_avant_de_Guingamp', 'En avant de Guingamp', 'EA Guingamp', '16', '8', '5', '1', '2', '19', '8', '+11'], ['8', '/wiki/Grenoble_Foot_38', 'Grenoble Foot 38', 'Grenoble Foot 38', '14', '8', '4', '2', '2', '11', '6', '+5'], ['9', '/wiki/Paris_Football_Club', 'Paris Football Club', 'Paris FC', '14', '7', '4', '2', '1', '12', '8', '+4'], ['10', '/wiki/Sporting_Club_de_Bastia', 'Sporting Club de Bastia', 'SC Bastia', '14', '8', '3', '5', '0', '10', '6', '+4'], ['11', '/wiki/Athletic_Club_ajaccien', 'Athletic Club ajaccien', 'AC Ajaccio', '14', '8', '4', '2', '2', '8', '5', '+3'], ['12', '/wiki/Stade_lavallois_Mayenne_Football_Club', 'Stade lavallois Mayenne Football Club', 'Stade lavallois', '11', '7', '3', '2', '2', '11', '9', '+2'], ['13', '/wiki/Esp%C3%A9rance_sportive_Troyes_Aube_Champagne', 'Espérance sportive Troyes Aube Champagne', 'ESTAC Troyes', '11', '8', '3', '2', '3', '9', '8', '+1'], ['14', '/wiki/Stade_Malherbe_Caen', 'Stade Malherbe Caen', 'SM Caen', '11', '8', '3', '2', '3', '10', '10', '0'], ['15', '/wiki/Red_Star_Football_Club', 'Red Star Football Club', 'Red Star FC', '11', '8', '3', '2', '3', '8', '12', '-4'], ['16', '/wiki/Rodez_Aveyron_Football', 'Rodez Aveyron Football', 'Rodez AF', '10', '7', '3', '1', '3', '14', '13', '+1'], ['17', '/wiki/Clermont_Foot_63', 'Clermont Foot 63', 'Clermont Foot 63', '10', '9', '2', '3', '4', '11', '10', '+1'], ['18', '/wiki/Football_Club_de_Martigues', 'Football Club de Martigues', 'FC Martigues', '1', '9', '0', '1', '8', '1', '17', '-16']], 'AWAY': [['1', '/wiki/Paris_Football_Club', 'Paris Football Club', 'Paris FC', '17', '9', '5', '2', '2', '12', '5', '+7'], ['2', '/wiki/Stade_lavallois_Mayenne_Football_Club', 'Stade lavallois Mayenne Football Club', 'Stade lavallois', '14', '9', '4', '2', '3', '14', '8', '+6'], ['3', '/wiki/Football_Club_de_Metz', 'Football Club de Metz', 'FC Metz', '11', '8', '3', '2', '3', '8', '8', '0'], ['4', '/wiki/Rodez_Aveyron_Football', 'Rodez Aveyron Football', 'Rodez AF', '10', '9', '2', '4', '3', '15', '13', '+2'], ['5', '/wiki/Football_Club_de_Lorient', 'Football Club de Lorient', 'FC Lorient', '9', '8', '2', '3', '3', '8', '9', '-1'], ['6', '/wiki/En_avant_de_Guingamp', 'En avant de Guingamp', 'EA Guingamp', '9', '8', '3', '0', '5', '7', '14', '-7'], ['7', '/wiki/Sporting_Club_de_Bastia', 'Sporting Club de Bastia', 'SC Bastia', '8', '8', '1', '5', '2', '6', '8', '-2'], ['8', '/wiki/Football_Club_d%27Annecy', \"Football Club d'Annecy\", 'FC Annecy', '8', '8', '1', '5', '2', '10', '14', '-4'], ['9', '/wiki/Football_Club_de_Martigues', 'Football Club de Martigues', 'FC Martigues', '8', '7', '2', '2', '3', '7', '17', '-10'], ['10', '/wiki/Union_sportive_du_littoral_de_Dunkerque', 'Union sportive du littoral de Dunkerque', 'USL Dunkerque', '7', '7', '2', '1', '4', '9', '13', '-4'], ['11', '/wiki/Esp%C3%A9rance_sportive_Troyes_Aube_Champagne', 'Espérance sportive Troyes Aube Champagne', 'ESTAC Troyes', '7', '8', '2', '1', '5', '6', '11', '-5'], ['12', '/wiki/Clermont_Foot_63', 'Clermont Foot 63', 'Clermont Foot 63', '7', '7', '2', '1', '4', '3', '9', '-6'], ['13', '/wiki/Red_Star_Football_Club', 'Red Star Football Club', 'Red Star FC', '7', '8', '2', '1', '5', '8', '16', '-8'], ['14', '/wiki/Amiens_Sporting_Club', 'Amiens Sporting Club', 'Amiens SC', '6', '8', '1', '1', '6', '8', '15', '-7'], ['15', '/wiki/Pau_Football_Club', 'Pau Football Club', 'Pau FC', '5', '8', '1', '2', '5', '7', '15', '-8'], ['16', '/wiki/Stade_Malherbe_Caen', 'Stade Malherbe Caen', 'SM Caen', '4', '8', '1', '1', '6', '8', '14', '-6'], ['17', '/wiki/Grenoble_Foot_38', 'Grenoble Foot 38', 'Grenoble Foot 38', '4', '8', '1', '1', '6', '7', '14', '-7'], ['18', '/wiki/Athletic_Club_ajaccien', 'Athletic Club ajaccien', 'AC Ajaccio', '1', '8', '0', '1', '7', '2', '12', '-10']]}}\n"
     ]
    }
   ],
   "source": [
    "print(season_dict)"
   ]
  },
  {
   "cell_type": "code",
   "execution_count": 5,
   "metadata": {},
   "outputs": [
    {
     "name": "stdout",
     "output_type": "stream",
     "text": [
      "['Le Havre Athletic Club (football)', 'Football Club de Metz', 'Football Club des Girondins de Bordeaux', 'Sporting Club bastiais', 'Stade Malherbe Caen', 'En avant de Guingamp', 'Paris Football Club', 'Association sportive de Saint-Étienne', 'Football Club Sochaux-Montbéliard', 'Grenoble Foot 38', 'Union sportive Quevilly Rouen Métropole', 'Amiens Sporting Club', 'Pau Football Club', 'Rodez Aveyron Football', 'Stade lavallois Mayenne Football Club', 'Valenciennes Football Club', \"Football Club d'Annecy\", \"Dijon Football Côte-d'Or\", 'Nîmes Olympique', 'Chamois niortais Football Club', 'Association de la jeunesse auxerroise', \"Angers Sporting Club de l'Ouest\", 'Sporting Club de Bastia', 'Athletic Club ajaccien', 'Union sportive du littoral de Dunkerque', 'Espérance sportive Troyes Aube Champagne', 'Union sportive concarnoise', 'Football Club de Lorient', 'Clermont Foot 63', 'Red Star Football Club', 'Football Club de Martigues']\n"
     ]
    }
   ],
   "source": [
    "club_list_address = []\n",
    "shortname_list = []\n",
    "longname_list = []\n",
    "for season in season_dict:\n",
    "    ranking_total = season_dict[season]['TOTAL']\n",
    "    for ranking in ranking_total:\n",
    "        if ranking[1] not in club_list_address:\n",
    "            club_list_address.append(ranking[1])\n",
    "            shortname_list.append(ranking[3])\n",
    "            longname_list.append(ranking[2])\n",
    "print(longname_list)"
   ]
  },
  {
   "cell_type": "code",
   "execution_count": 6,
   "metadata": {},
   "outputs": [
    {
     "data": {
      "text/plain": [
       "31"
      ]
     },
     "execution_count": 6,
     "metadata": {},
     "output_type": "execute_result"
    }
   ],
   "source": [
    "len(club_list_address)"
   ]
  },
  {
   "cell_type": "code",
   "execution_count": 7,
   "metadata": {},
   "outputs": [
    {
     "data": {
      "text/plain": [
       "{'Le Havre Athletic Club (football)': {'fondation': '1884',\n",
       "  'stade': 'Stade Océane'},\n",
       " 'Football Club de Metz': {'fondation': '1919',\n",
       "  'stade': 'Stade Saint-Symphorien'},\n",
       " 'Football Club des Girondins de Bordeaux': {'fondation': '1920',\n",
       "  'stade': 'Bordeaux Atlantique'},\n",
       " 'Sporting Club bastiais': {'fondation': '1905',\n",
       "  'stade': 'Stade Armand-Cesari'},\n",
       " 'Stade Malherbe Caen': {'fondation': '1913',\n",
       "  'stade': \"Stade Michel-d'Ornano\"},\n",
       " 'En avant de Guingamp': {'fondation': '1912', 'stade': 'Stade de Roudourou'},\n",
       " 'Paris Football Club': {'fondation': '1969', 'stade': 'Stade Charléty'},\n",
       " 'Association sportive de Saint-Étienne': {'fondation': '1919',\n",
       "  'stade': 'Stade Geoffroy-Guichard'},\n",
       " 'Football Club Sochaux-Montbéliard': {'fondation': '1928',\n",
       "  'stade': 'Stade Auguste-Bonal'},\n",
       " 'Grenoble Foot 38': {'fondation': '1911', 'stade': 'Stade des Alpes'},\n",
       " 'Union sportive Quevilly Rouen Métropole': {'fondation': '1902',\n",
       "  'stade': 'Stade Robert-Diochon'},\n",
       " 'Amiens Sporting Club': {'fondation': '1901', 'stade': 'Stade de la Licorne'},\n",
       " 'Pau Football Club': {'fondation': '1959', 'stade': 'Nouste Camp'},\n",
       " 'Rodez Aveyron Football': {'fondation': '1929', 'stade': 'Stade Paul-Lignon'},\n",
       " 'Stade lavallois Mayenne Football Club': {'fondation': '1902',\n",
       "  'stade': 'Stade Francis-Le-Basser'},\n",
       " 'Valenciennes Football Club': {'fondation': '1913',\n",
       "  'stade': 'Stade du Hainaut'},\n",
       " \"Football Club d'Annecy\": {'fondation': '1927',\n",
       "  'stade': \"Parc des Sports d'Annecy\"},\n",
       " \"Dijon Football Côte-d'Or\": {'fondation': '1998',\n",
       "  'stade': 'Stade Gaston-Gérard'},\n",
       " 'Nîmes Olympique': {'fondation': '1937', 'stade': 'Stade des Antonins'},\n",
       " 'Chamois niortais Football Club': {'fondation': '1925',\n",
       "  'stade': 'Stade René-Gaillard[2]'},\n",
       " 'Association de la jeunesse auxerroise': {'fondation': '1905',\n",
       "  'stade': \"Stade de l'Abbé-Deschamps\"},\n",
       " \"Angers Sporting Club de l'Ouest\": {'fondation': '1919',\n",
       "  'stade': 'Stade Raymond-Kopa'},\n",
       " 'Sporting Club de Bastia': {'fondation': '1905',\n",
       "  'stade': 'Stade Armand-Cesari'},\n",
       " 'Athletic Club ajaccien': {'fondation': '1910',\n",
       "  'stade': 'Stade Michel-Moretti'},\n",
       " 'Union sportive du littoral de Dunkerque': {'fondation': '1919',\n",
       "  'stade': 'Stade Marcel-Tribut'},\n",
       " 'Espérance sportive Troyes Aube Champagne': {'fondation': '1986',\n",
       "  'stade': \"Stade de l'Aube\"},\n",
       " 'Union sportive concarnoise': {'fondation': '1911',\n",
       "  'stade': 'Stade Guy-Piriou'},\n",
       " 'Football Club de Lorient': {'fondation': '1926',\n",
       "  'stade': 'Stade du Moustoir'},\n",
       " 'Clermont Foot 63': {'fondation': '1984', 'stade': 'Stade Gabriel-Montpied'},\n",
       " 'Red Star Football Club': {'fondation': '1897', 'stade': 'Stade Bauer'},\n",
       " 'Football Club de Martigues': {'fondation': '1921',\n",
       "  'stade': 'Stade Francis Turcan'}}"
      ]
     },
     "execution_count": 7,
     "metadata": {},
     "output_type": "execute_result"
    }
   ],
   "source": [
    "session = requests.session()\n",
    "uri = \"https://fr.wikipedia.org\"\n",
    "dict_teams = {}\n",
    "i = 0\n",
    "\n",
    "for club_address in club_list_address:\n",
    "    response = session.get(uri + club_address)\n",
    "    soup = BeautifulSoup(response.text, \"html.parser\")\n",
    "    infobox = soup.find('div', class_='infobox_v3')\n",
    "    fondation = infobox.find('th', string = re.compile('Fondation')).find_next_sibling('td').get_text()\n",
    "    stade = infobox.find('a', string = re.compile('Stade')).parent.find_next_sibling('td').get_text()\n",
    "    dict_teams[longname_list[i]] = { 'fondation' : re.search('[0-9]{4}', fondation).group(0), \n",
    "                                                        'stade' : re.sub(r' \\((.*)\\)', '', stade.strip('\\n')) }\n",
    "    i += 1\n",
    "session.close()\n",
    "dict_teams"
   ]
  },
  {
   "cell_type": "code",
   "execution_count": 8,
   "metadata": {},
   "outputs": [
    {
     "data": {
      "text/plain": [
       "{'Le Havre Athletic Club (football)': {'fondation': '1884',\n",
       "  'stade': 'Stade Océane',\n",
       "  'shortname': 'Le Havre AC'},\n",
       " 'Football Club de Metz': {'fondation': '1919',\n",
       "  'stade': 'Stade Saint-Symphorien',\n",
       "  'shortname': 'FC Metz'},\n",
       " 'Football Club des Girondins de Bordeaux': {'fondation': '1920',\n",
       "  'stade': 'Bordeaux Atlantique',\n",
       "  'shortname': 'Girondins de Bordeaux'},\n",
       " 'Sporting Club bastiais': {'fondation': '1905',\n",
       "  'stade': 'Stade Armand-Cesari',\n",
       "  'shortname': 'SC Bastia'},\n",
       " 'Stade Malherbe Caen': {'fondation': '1913',\n",
       "  'stade': \"Stade Michel-d'Ornano\",\n",
       "  'shortname': 'SM Caen'},\n",
       " 'En avant de Guingamp': {'fondation': '1912',\n",
       "  'stade': 'Stade de Roudourou',\n",
       "  'shortname': 'EA Guingamp'},\n",
       " 'Paris Football Club': {'fondation': '1969',\n",
       "  'stade': 'Stade Charléty',\n",
       "  'shortname': 'Paris FC'},\n",
       " 'Association sportive de Saint-Étienne': {'fondation': '1919',\n",
       "  'stade': 'Stade Geoffroy-Guichard',\n",
       "  'shortname': 'AS Saint-Étienne'},\n",
       " 'Football Club Sochaux-Montbéliard': {'fondation': '1928',\n",
       "  'stade': 'Stade Auguste-Bonal',\n",
       "  'shortname': 'FC Sochaux-Montbéliard'},\n",
       " 'Grenoble Foot 38': {'fondation': '1911',\n",
       "  'stade': 'Stade des Alpes',\n",
       "  'shortname': 'Grenoble Foot 38'},\n",
       " 'Union sportive Quevilly Rouen Métropole': {'fondation': '1902',\n",
       "  'stade': 'Stade Robert-Diochon',\n",
       "  'shortname': 'US Quevilly-Rouen'},\n",
       " 'Amiens Sporting Club': {'fondation': '1901',\n",
       "  'stade': 'Stade de la Licorne',\n",
       "  'shortname': 'Amiens SC'},\n",
       " 'Pau Football Club': {'fondation': '1959',\n",
       "  'stade': 'Nouste Camp',\n",
       "  'shortname': 'Pau FC'},\n",
       " 'Rodez Aveyron Football': {'fondation': '1929',\n",
       "  'stade': 'Stade Paul-Lignon',\n",
       "  'shortname': 'Rodez AF'},\n",
       " 'Stade lavallois Mayenne Football Club': {'fondation': '1902',\n",
       "  'stade': 'Stade Francis-Le-Basser',\n",
       "  'shortname': 'Stade lavallois'},\n",
       " 'Valenciennes Football Club': {'fondation': '1913',\n",
       "  'stade': 'Stade du Hainaut',\n",
       "  'shortname': 'Valenciennes FC'},\n",
       " \"Football Club d'Annecy\": {'fondation': '1927',\n",
       "  'stade': \"Parc des Sports d'Annecy\",\n",
       "  'shortname': 'FC Annecy'},\n",
       " \"Dijon Football Côte-d'Or\": {'fondation': '1998',\n",
       "  'stade': 'Stade Gaston-Gérard',\n",
       "  'shortname': 'Dijon FCO'},\n",
       " 'Nîmes Olympique': {'fondation': '1937',\n",
       "  'stade': 'Stade des Antonins',\n",
       "  'shortname': 'Nîmes Olympique'},\n",
       " 'Chamois niortais Football Club': {'fondation': '1925',\n",
       "  'stade': 'Stade René-Gaillard[2]',\n",
       "  'shortname': 'Chamois niortais FC'},\n",
       " 'Association de la jeunesse auxerroise': {'fondation': '1905',\n",
       "  'stade': \"Stade de l'Abbé-Deschamps\",\n",
       "  'shortname': 'AJ Auxerre'},\n",
       " \"Angers Sporting Club de l'Ouest\": {'fondation': '1919',\n",
       "  'stade': 'Stade Raymond-Kopa',\n",
       "  'shortname': 'Angers SCO'},\n",
       " 'Sporting Club de Bastia': {'fondation': '1905',\n",
       "  'stade': 'Stade Armand-Cesari',\n",
       "  'shortname': 'SC Bastia'},\n",
       " 'Athletic Club ajaccien': {'fondation': '1910',\n",
       "  'stade': 'Stade Michel-Moretti',\n",
       "  'shortname': 'AC Ajaccio'},\n",
       " 'Union sportive du littoral de Dunkerque': {'fondation': '1919',\n",
       "  'stade': 'Stade Marcel-Tribut',\n",
       "  'shortname': 'USL Dunkerque'},\n",
       " 'Espérance sportive Troyes Aube Champagne': {'fondation': '1986',\n",
       "  'stade': \"Stade de l'Aube\",\n",
       "  'shortname': 'ESTAC Troyes'},\n",
       " 'Union sportive concarnoise': {'fondation': '1911',\n",
       "  'stade': 'Stade Guy-Piriou',\n",
       "  'shortname': 'US Concarneau'},\n",
       " 'Football Club de Lorient': {'fondation': '1926',\n",
       "  'stade': 'Stade du Moustoir',\n",
       "  'shortname': 'FC Lorient'},\n",
       " 'Clermont Foot 63': {'fondation': '1984',\n",
       "  'stade': 'Stade Gabriel-Montpied',\n",
       "  'shortname': 'Clermont Foot 63'},\n",
       " 'Red Star Football Club': {'fondation': '1897',\n",
       "  'stade': 'Stade Bauer',\n",
       "  'shortname': 'Red Star FC'},\n",
       " 'Football Club de Martigues': {'fondation': '1921',\n",
       "  'stade': 'Stade Francis Turcan',\n",
       "  'shortname': 'FC Martigues'}}"
      ]
     },
     "execution_count": 8,
     "metadata": {},
     "output_type": "execute_result"
    }
   ],
   "source": [
    "i = 0\n",
    "for team in dict_teams:\n",
    "    dict_teams[team]['shortname'] = shortname_list[i]\n",
    "    i += 1\n",
    "dict_teams"
   ]
  },
  {
   "cell_type": "code",
   "execution_count": null,
   "metadata": {},
   "outputs": [],
   "source": [
    "df_players_list = []\n",
    "coach_address_list = []\n",
    "session = requests.session()\n",
    "\n",
    "for club_address in club_list_address:\n",
    "    response = session.get(uri + club_address)\n",
    "    soup = BeautifulSoup(response.text, \"html.parser\")\n",
    "    df = pd.read_html(StringIO(str(soup.select_one(\"table.sortable[style='margin:0px; width:100%; text-align: center;']\"))), extract_links='body')\n",
    "    df_players_list.append(df)\n",
    "    try:\n",
    "        coach_address_list.append(soup.find('a', string='Entraîneur').parent.find_next_sibling('td').find('span').find_next_sibling('a').get('href'))\n",
    "    except AttributeError:\n",
    "        coach_address_list.append(soup.find('a', string='Entraîneur').parent.find_next_sibling('td').get_text())\n",
    "\n",
    "session.close()"
   ]
  },
  {
   "cell_type": "code",
   "execution_count": 10,
   "metadata": {},
   "outputs": [
    {
     "data": {
      "text/plain": [
       "['/wiki/Didier_Digard',\n",
       " '/wiki/St%C3%A9phane_Le_Mignan',\n",
       " '/wiki/Bruno_Irles',\n",
       " '/wiki/Beno%C3%AEt_Tavenot',\n",
       " '/wiki/Bruno_Baltazar',\n",
       " '/wiki/Sylvain_Ripoll',\n",
       " '/wiki/St%C3%A9phane_Gilli',\n",
       " '/wiki/Eirik_Horneland',\n",
       " '/wiki/Fr%C3%A9d%C3%A9ric_Bompard',\n",
       " '/wiki/Franck_Rizzetto',\n",
       " '\\n David Carré',\n",
       " '/wiki/Omar_Daf',\n",
       " '/wiki/Nicolas_Usa%C3%AF',\n",
       " '/wiki/Didier_Santini',\n",
       " '/wiki/Olivier_Frapolli',\n",
       " '/wiki/Vincent_Hognon',\n",
       " '/wiki/Laurent_Guyot',\n",
       " '\\n Baptiste Ridira',\n",
       " '/wiki/Adil_Hermach',\n",
       " '\\n Damien Charron',\n",
       " '/wiki/Christophe_P%C3%A9lissier_(football)',\n",
       " '/wiki/Alexandre_Dujeux',\n",
       " '/wiki/Beno%C3%AEt_Tavenot',\n",
       " '/wiki/Thierry_Deb%C3%A8s',\n",
       " '/wiki/Lu%C3%ADs_Castro_(football,_1980)',\n",
       " '/wiki/St%C3%A9phane_Dumont',\n",
       " '/wiki/St%C3%A9phane_Rossi',\n",
       " '/wiki/Olivier_Pantaloni',\n",
       " '/wiki/Laurent_Batlles',\n",
       " '/wiki/Gr%C3%A9gory_Poirier',\n",
       " '/wiki/Hakim_Malek']"
      ]
     },
     "execution_count": 10,
     "metadata": {},
     "output_type": "execute_result"
    }
   ],
   "source": [
    "coach_address_list"
   ]
  },
  {
   "cell_type": "code",
   "execution_count": 11,
   "metadata": {},
   "outputs": [
    {
     "data": {
      "text/plain": [
       "1"
      ]
     },
     "execution_count": 11,
     "metadata": {},
     "output_type": "execute_result"
    }
   ],
   "source": [
    "len(df_players_list[0])"
   ]
  },
  {
   "cell_type": "code",
   "execution_count": 12,
   "metadata": {},
   "outputs": [],
   "source": [
    "with open(f\"../data/competition/ligue2.json\", \"w\") as file:\n",
    "    file.write(json.dumps(season_dict, indent=4))"
   ]
  },
  {
   "cell_type": "code",
   "execution_count": 13,
   "metadata": {},
   "outputs": [],
   "source": [
    "with open(f\"../data/teams/ligue2_2022-2024.json\", \"w\") as file:\n",
    "    file.write(json.dumps(dict_teams, indent=4))"
   ]
  },
  {
   "cell_type": "code",
   "execution_count": 14,
   "metadata": {},
   "outputs": [],
   "source": [
    "for i in range(len(df_players_list)):\n",
    "    df_players_list[i][0].to_csv(f\"../data/teams/team-{longname_list[i].replace(' ', '_')}.csv\")"
   ]
  },
  {
   "cell_type": "code",
   "execution_count": 15,
   "metadata": {},
   "outputs": [],
   "source": [
    "session = requests.session()\n",
    "coach_dict = {}\n",
    "i = 0\n",
    "\n",
    "for coach in coach_address_list:\n",
    "    if coach.startswith('/wiki/'):\n",
    "        uri = \"https://fr.wikipedia.org\"\n",
    "        coach_unquote = requests.utils.unquote(uri + coach)\n",
    "        response = session.get(uri + coach)\n",
    "        coach_name = re.sub(r' \\((.*)\\)', '', coach_unquote[30:].replace('_', ' '))\n",
    "        soup = BeautifulSoup(response.text, \"html.parser\")\n",
    "        table = soup.find(class_='infobox')\n",
    "        birthdate = table.find('th', string = re.compile('Naissance')).find_next_sibling('td').find('time').get('datetime')\n",
    "        nationality = table.find('span', string = re.compile('Nationalité')).parent.find_next_sibling('td').get_text()\n",
    "    else:\n",
    "        coach_name = coach.replace('\\n ', '')\n",
    "    coach_dict[longname_list[i]] = { 'surname' : coach_name.split()[0], 'name' : ' '.join(coach_name.split()[1:]),\n",
    "                                     'birthdate' : birthdate, 'nationality' : nationality.strip('\\n').replace('   ','/').strip(' ')}\n",
    "    i += 1\n",
    "\n",
    "session.close()"
   ]
  },
  {
   "cell_type": "code",
   "execution_count": 16,
   "metadata": {},
   "outputs": [],
   "source": [
    "with open(f\"../data/teams/coaches_ligue2_2022-2024.json\", \"w\") as file:\n",
    "    file.write(json.dumps(coach_dict, indent=4))"
   ]
  },
  {
   "cell_type": "code",
   "execution_count": 51,
   "metadata": {},
   "outputs": [],
   "source": [
    "session = requests.session()\n",
    "match_list = []\n",
    "i = 0\n",
    "\n",
    "for i in range(2022,2025):\n",
    "    season_dict = {}\n",
    "    season_dict['season'] = f\"{i}-{i+1}\"\n",
    "    match_number = 39\n",
    "    if i == 2024:\n",
    "        match_number = 35\n",
    "\n",
    "    for j in range(1,match_number):\n",
    "        uri = f\"https://www.bienpublic.com/sport/calendrier-resultats/saison-{i}-{i+1}/football/national-ligue-2/{j}\"\n",
    "        response = session.get(uri)\n",
    "        soup = BeautifulSoup(response.text, \"html.parser\")\n",
    "        table_list = []\n",
    "        matchday_dict = {}\n",
    "        matchday_dict['matchday'] = j\n",
    "\n",
    "        for table in soup.find_all('table'):\n",
    "            table_list.append(pd.read_html(StringIO(str(table))))\n",
    "        for table in table_list:\n",
    "            date_dict = {}\n",
    "            date_match = table[0].columns[0]\n",
    "            date_dict['date'] = date_match\n",
    "            date_dict['results'] = table[0].set_axis(['home_team', 'score', 'away_team'], axis='columns').to_dict(orient='records')\n",
    "            try:\n",
    "                matchday_dict['matches'].extend([date_dict])\n",
    "            except KeyError:\n",
    "                matchday_dict['matches'] = [date_dict]\n",
    "        time.sleep(3)\n",
    "        try:\n",
    "            season_dict['season_matches'].extend([matchday_dict])\n",
    "        except KeyError:\n",
    "            season_dict['season_matches'] = [matchday_dict]\n",
    "    # match_dict['season'] = f\"{i}-{i+1}\"\n",
    "    match_list.append(season_dict)\n",
    "    # match_dict['season_matches'] = matchday_dict\n",
    "            \n",
    "session.close()"
   ]
  },
  {
   "cell_type": "code",
   "execution_count": 52,
   "metadata": {},
   "outputs": [],
   "source": [
    "for season in match_list:\n",
    "    with open(f\"../data/matches/matches_ligue2_{season['season']}.json\", \"w\") as file:\n",
    "        file.write(json.dumps(season, indent=4))"
   ]
  },
  {
   "cell_type": "code",
   "execution_count": null,
   "metadata": {},
   "outputs": [],
   "source": []
  }
 ],
 "metadata": {
  "kernelspec": {
   "display_name": "climate",
   "language": "python",
   "name": "python3"
  },
  "language_info": {
   "codemirror_mode": {
    "name": "ipython",
    "version": 3
   },
   "file_extension": ".py",
   "mimetype": "text/x-python",
   "name": "python",
   "nbconvert_exporter": "python",
   "pygments_lexer": "ipython3",
   "version": "3.12.8"
  }
 },
 "nbformat": 4,
 "nbformat_minor": 2
}
