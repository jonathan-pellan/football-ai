{
 "cells": [
  {
   "cell_type": "code",
   "execution_count": 1,
   "metadata": {},
   "outputs": [],
   "source": [
    "import requests\n",
    "import json\n",
    "import time\n",
    "import os"
   ]
  },
  {
   "cell_type": "markdown",
   "metadata": {},
   "source": [
    "## Requête API\n",
    "On commence d'abord par requêter les classements de ligue 1 de ces 3 dernières années :"
   ]
  },
  {
   "cell_type": "code",
   "execution_count": 9,
   "metadata": {},
   "outputs": [],
   "source": [
    "# URI correspondant à la Ligue 1 sur l'API Football-data\n",
    "uri = \"https://api.football-data.org/v4/competitions/FL1/\""
   ]
  },
  {
   "cell_type": "code",
   "execution_count": 11,
   "metadata": {},
   "outputs": [],
   "source": [
    "session = requests.session()\n",
    "# Token API secret pour la requête\n",
    "session.headers.update({ 'X-Auth-Token' : \"eef1b697ff0b4e01816be85ebbc5a39d\" })\n",
    "with open(\"../data/ligue1_2020_2021.json\", \"a\") as file:\n",
    "    for i in range(2020, 2022):\n",
    "        uri_competition = uri + \"standings?season=\" + str(i)\n",
    "        response = session.get(uri_competition)\n",
    "        parsed_response = json.loads(response.text)\n",
    "        file.write(json.dumps(parsed_response, indent=4))\n",
    "        time.sleep(10)\n",
    "session.close()"
   ]
  },
  {
   "cell_type": "code",
   "execution_count": 17,
   "metadata": {},
   "outputs": [],
   "source": [
    "team_id_list = []\n",
    "for filename in os.listdir('../data/competition'):\n",
    "    json_file = os.path.join('../data/competition', filename)\n",
    "    if os.path.isfile(json_file):\n",
    "        with open(json_file) as json_data:\n",
    "            data = json.load(json_data)\n",
    "            for element in data['standings'][0]['table']:\n",
    "                if element['team']['id'] not in team_id_list:\n",
    "                    team_id_list.append(element['team']['id'])\n",
    "            json_data.close()"
   ]
  },
  {
   "cell_type": "code",
   "execution_count": 18,
   "metadata": {},
   "outputs": [
    {
     "data": {
      "text/plain": [
       "23"
      ]
     },
     "execution_count": 18,
     "metadata": {},
     "output_type": "execute_result"
    }
   ],
   "source": [
    "len(team_id_list)"
   ]
  },
  {
   "cell_type": "code",
   "execution_count": 22,
   "metadata": {},
   "outputs": [],
   "source": [
    "uri = \"https://api.football-data.org/v4/teams/\"\n",
    "session = requests.session()\n",
    "# Token API secret pour la requête\n",
    "session.headers.update({ 'X-Auth-Token' : \"eef1b697ff0b4e01816be85ebbc5a39d\" })\n",
    "for id in team_id_list:\n",
    "    with open(\"../data/teams/team-\"+ str(id) +\".json\", \"w\") as file:\n",
    "        uri_competition = uri + str(id)\n",
    "        response = session.get(uri_competition)\n",
    "        parsed_response = json.loads(response.text)\n",
    "        file.write(json.dumps(parsed_response, indent=4))\n",
    "        time.sleep(30)\n",
    "session.close()"
   ]
  },
  {
   "cell_type": "code",
   "execution_count": 7,
   "metadata": {},
   "outputs": [],
   "source": [
    "uri=\"https://api.football-data.org/v4/matches/497959\"\n",
    "session= requests.session()\n",
    "session.headers.update({ 'X-Auth-Token' : \"eef1b697ff0b4e01816be85ebbc5a39d\" })\n",
    "response = session.get(uri)\n",
    "with open(\"../data/matches/test_2.json\", \"w\") as file:\n",
    "    parsed_response = json.loads(response.text)\n",
    "    file.write(json.dumps(parsed_response, indent=4))"
   ]
  },
  {
   "cell_type": "code",
   "execution_count": 2,
   "metadata": {},
   "outputs": [],
   "source": [
    "session = requests.session()\n",
    "session.headers.update({ 'X-Auth-Token' : \"eef1b697ff0b4e01816be85ebbc5a39d\" })\n",
    "\n",
    "for i in range(2023,2025):\n",
    "    if i == 2023:\n",
    "        for j in [6]:\n",
    "            response = session.get(f\"https://api.football-data.org/v4/competitions/FL1/matches?season={i}&matchday={j+1}\")\n",
    "            with open(f\"../data/matches/season-{i}_matches-{j+1}.json\", \"w\") as file:\n",
    "                parsed_response = json.loads(response.text)\n",
    "                file.write(json.dumps(parsed_response, indent=4))\n",
    "            time.sleep(90)\n",
    "    else:\n",
    "        for j in [20]:\n",
    "            response = session.get(f\"https://api.football-data.org/v4/competitions/FL1/matches?season={i}&matchday={j+1}\")\n",
    "            with open(f\"../data/matches/season-{i}_matches-{j+1}.json\", \"w\") as file:\n",
    "                parsed_response = json.loads(response.text)\n",
    "                file.write(json.dumps(parsed_response, indent=4))\n",
    "            time.sleep(90)\n",
    "session.close()"
   ]
  },
  {
   "cell_type": "markdown",
   "metadata": {},
   "source": [
    "## Missing :\n",
    "NONE"
   ]
  }
 ],
 "metadata": {
  "kernelspec": {
   "display_name": "climate",
   "language": "python",
   "name": "python3"
  },
  "language_info": {
   "codemirror_mode": {
    "name": "ipython",
    "version": 3
   },
   "file_extension": ".py",
   "mimetype": "text/x-python",
   "name": "python",
   "nbconvert_exporter": "python",
   "pygments_lexer": "ipython3",
   "version": "3.12.8"
  }
 },
 "nbformat": 4,
 "nbformat_minor": 2
}
